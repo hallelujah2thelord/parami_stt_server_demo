{
 "cells": [
  {
   "cell_type": "code",
   "execution_count": 1,
   "metadata": {},
   "outputs": [],
   "source": [
    "import asyncio\n",
    "import socketio\n",
    "\n",
    "api_token = 'XXX'\n",
    "\n",
    "sio = socketio.AsyncClient(engineio_logger=False, ssl_verify=False)\n",
    "\n",
    "\n",
    "@sio.event\n",
    "def disconnect():\n",
    "    print(\"disconnected\")\n",
    "\n",
    "@sio.event\n",
    "async def connect():\n",
    "    print(\"connected\")\n",
    "    \n",
    "@sio.event\n",
    "async def speechData(data):\n",
    "    print(\"received\", data)\n",
    "    "
   ]
  },
  {
   "cell_type": "code",
   "execution_count": 2,
   "metadata": {},
   "outputs": [
    {
     "name": "stdout",
     "output_type": "stream",
     "text": [
      "connected\n"
     ]
    }
   ],
   "source": [
    "await sio.connect('https://stt-2.parami.ai/socket.io?api_token=' + api_token, transports=['websocket'])"
   ]
  },
  {
   "cell_type": "code",
   "execution_count": 3,
   "metadata": {},
   "outputs": [
    {
     "data": {
      "text/plain": [
       "{'index': '0',\n",
       " 'codec_name': 'pcm_s16le',\n",
       " 'codec_long_name': 'PCM signed 16-bit little-endian',\n",
       " 'profile': 'unknown',\n",
       " 'codec_type': 'audio',\n",
       " 'codec_time_base': '1/16000',\n",
       " 'codec_tag_string': '[1][0][0][0]',\n",
       " 'codec_tag': '0x0001',\n",
       " 'sample_fmt': 's16',\n",
       " 'sample_rate': '16000',\n",
       " 'channels': '1',\n",
       " 'channel_layout': 'unknown',\n",
       " 'bits_per_sample': '16',\n",
       " 'id': 'N/A',\n",
       " 'r_frame_rate': '0/0',\n",
       " 'avg_frame_rate': '0/0',\n",
       " 'time_base': '1/16000',\n",
       " 'start_pts': 'N/A',\n",
       " 'start_time': 'N/A',\n",
       " 'duration_ts': '152639',\n",
       " 'duration': '9.539938',\n",
       " 'bit_rate': '402555',\n",
       " 'max_bit_rate': 'N/A',\n",
       " 'bits_per_raw_sample': 'N/A',\n",
       " 'nb_frames': 'N/A',\n",
       " 'nb_read_frames': 'N/A',\n",
       " 'nb_read_packets': 'N/A',\n",
       " 'DISPOSITION': {'default': '0',\n",
       "  'dub': '0',\n",
       "  'original': '0',\n",
       "  'comment': '0',\n",
       "  'lyrics': '0',\n",
       "  'karaoke': '0',\n",
       "  'forced': '0',\n",
       "  'hearing_impaired': '0',\n",
       "  'visual_impaired': '0',\n",
       "  'clean_effects': '0',\n",
       "  'attached_pic': '0',\n",
       "  'timed_thumbnails': '0'},\n",
       " 'filename': 'demo_short.wav',\n",
       " 'nb_streams': '1',\n",
       " 'nb_programs': '0',\n",
       " 'format_name': 'wav',\n",
       " 'format_long_name': 'WAV / WAVE (Waveform Audio)',\n",
       " 'size': '480044',\n",
       " 'probe_score': '99'}"
      ]
     },
     "execution_count": 3,
     "metadata": {},
     "output_type": "execute_result"
    }
   ],
   "source": [
    "from pydub.utils import mediainfo\n",
    "mediainfo('demo_short.wav')"
   ]
  },
  {
   "cell_type": "code",
   "execution_count": 4,
   "metadata": {},
   "outputs": [
    {
     "data": {
      "text/plain": [
       "480000"
      ]
     },
     "execution_count": 4,
     "metadata": {},
     "output_type": "execute_result"
    }
   ],
   "source": [
    "\n",
    "# Load a 5-second audio file\n",
    "\n",
    "with open('demo_short.wav', 'rb') as f:\n",
    "    wav_content = f.read()\n",
    "\n",
    "'''\n",
    "Please follow the following encoding for the audio:\n",
    "\n",
    " codec_name:      pcm_s16le\n",
    " codec_long_name: PCM signed 16-bit little-endian\n",
    " sample_rate:     48000\n",
    " bits_per_sample: 16\n",
    " \n",
    "'''\n",
    "\n",
    "wav_content\n",
    "# b'RIFF$e\\x04...'\n",
    "\n",
    "# Remove the header metadata, and keep just the data\n",
    "wav_content = wav_content[44:]\n",
    "\n",
    "len(wav_content) \n",
    "# 480000 in bytes\n",
    "\n"
   ]
  },
  {
   "cell_type": "code",
   "execution_count": 5,
   "metadata": {},
   "outputs": [
    {
     "name": "stdout",
     "output_type": "stream",
     "text": [
      "received {'text': '', 'final': False, 'language': 'zh-hk', 'concats': [], 'results': [{'text': '小', 'final': False, 'language': 'zh-hk'}]}\n",
      "received {'text': '', 'final': False, 'language': 'zh-hk', 'concats': [], 'results': [{'text': '小米', 'final': False, 'language': 'zh-hk'}]}\n",
      "received {'text': '', 'final': False, 'language': 'zh-hk', 'concats': [], 'results': [{'text': '小米多', 'final': False, 'language': 'zh-hk'}]}\n",
      "received {'text': '', 'final': False, 'language': 'zh-hk', 'concats': [], 'results': [{'text': '小米都', 'final': False, 'language': 'zh-hk'}]}\n",
      "received {'text': '', 'final': False, 'language': 'zh-hk', 'concats': [], 'results': [{'text': '小米', 'final': False, 'language': 'zh-hk'}]}\n",
      "received {'text': '', 'final': False, 'language': 'zh-hk', 'concats': [], 'results': [{'text': '小米', 'final': False, 'language': 'zh-hk'}]}\n",
      "received {'text': '', 'final': False, 'language': 'zh-hk', 'concats': [], 'results': [{'text': '小米都計', 'final': False, 'language': 'zh-hk'}]}\n",
      "received {'text': '', 'final': False, 'language': 'zh-hk', 'concats': [], 'results': [{'text': '小米都繼續', 'final': False, 'language': 'zh-hk'}]}\n",
      "received {'text': '', 'final': False, 'language': 'zh-hk', 'concats': [], 'results': [{'text': '小米都繼續跌', 'final': False, 'language': 'zh-hk'}]}\n",
      "received {'text': '', 'final': False, 'language': 'zh-hk', 'concats': [], 'results': [{'text': '小米都繼續跌', 'final': False, 'language': 'zh-hk'}]}\n",
      "received {'text': '小米都繼續跌緊藥', 'final': False, 'language': 'zh-hk', 'concats': ['小米都繼續跌緊藥'], 'results': [{'text': '小米都繼續跌緊藥', 'final': False, 'language': 'zh-hk'}]}\n",
      "received {'text': '小米都繼續跌緊弱勢', 'final': False, 'language': 'zh-hk', 'concats': ['小米都繼續跌緊弱勢'], 'results': [{'text': '小米都繼續跌緊弱勢', 'final': False, 'language': 'zh-hk'}]}\n",
      "received {'text': '小米都繼續跌緊弱勢呀', 'final': False, 'language': 'zh-hk', 'concats': ['小米都繼續跌緊弱勢呀'], 'results': [{'text': '小米都繼續跌緊弱勢呀', 'final': False, 'language': 'zh-hk'}]}\n",
      "received {'text': '小米都繼續跌緊弱勢呀', 'final': True, 'language': 'zh-hk', 'concats': ['小米都繼續跌緊弱勢呀'], 'results': [{'text': '小米都繼續跌緊弱勢呀', 'final': True, 'language': 'zh-hk'}]}\n",
      "received {'text': '小米都繼續跌緊弱勢呀', 'final': True, 'language': 'zh-hk', 'concats': ['小米都繼續跌緊弱勢呀'], 'results': [{'text': '小米都繼續跌緊弱勢呀', 'final': True, 'language': 'zh-hk'}]}\n"
     ]
    }
   ],
   "source": [
    "\n",
    "await sio.emit(\"startStream\", {\n",
    "    \"config\": {\n",
    "        \"rate\": 48000,\n",
    "        \"debug\": True\n",
    "    },\n",
    "    \"always_detect_language\": False,\n",
    "})\n",
    "\n",
    "\n",
    "await sio.emit(\"binaryData\", wav_content)\n",
    "\n",
    "await asyncio.sleep(5)\n",
    "\n",
    "await sio.emit(\"endStream\", \"\")\n",
    "\n"
   ]
  },
  {
   "cell_type": "code",
   "execution_count": null,
   "metadata": {},
   "outputs": [],
   "source": []
  }
 ],
 "metadata": {
  "kernelspec": {
   "display_name": "Python 3",
   "language": "python",
   "name": "python3"
  },
  "language_info": {
   "codemirror_mode": {
    "name": "ipython",
    "version": 3
   },
   "file_extension": ".py",
   "mimetype": "text/x-python",
   "name": "python",
   "nbconvert_exporter": "python",
   "pygments_lexer": "ipython3",
   "version": "3.6.9"
  },
  "toc": {
   "base_numbering": 1,
   "nav_menu": {},
   "number_sections": true,
   "sideBar": true,
   "skip_h1_title": false,
   "title_cell": "Table of Contents",
   "title_sidebar": "Contents",
   "toc_cell": false,
   "toc_position": {},
   "toc_section_display": true,
   "toc_window_display": false
  }
 },
 "nbformat": 4,
 "nbformat_minor": 2
}
